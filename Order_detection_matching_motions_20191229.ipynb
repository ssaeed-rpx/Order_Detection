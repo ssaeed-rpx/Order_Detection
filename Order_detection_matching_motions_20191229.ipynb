{
 "cells": [
  {
   "cell_type": "code",
   "execution_count": 55,
   "metadata": {
    "ExecuteTime": {
     "end_time": "2019-12-10T23:02:15.251166Z",
     "start_time": "2019-12-10T23:02:15.234688Z"
    }
   },
   "outputs": [
    {
     "data": {
      "text/html": [
       "\n",
       "        <script>\n",
       "            function code_toggle_2222634711908007905() {\n",
       "                $('div.cell.code_cell.rendered.selected').find('div.input').toggle();\n",
       "            }\n",
       "\n",
       "            \n",
       "        </script>\n",
       "\n",
       "        <a href=\"javascript:code_toggle_2222634711908007905()\">Hiding the function</a>\n",
       "    "
      ],
      "text/plain": [
       "<IPython.core.display.HTML object>"
      ]
     },
     "execution_count": 55,
     "metadata": {},
     "output_type": "execute_result"
    }
   ],
   "source": [
    "from IPython.display import HTML\n",
    "import random\n",
    "\n",
    "def hide_function(toggle_display,for_next=False):\n",
    "    this_cell = \"\"\"$('div.cell.code_cell.rendered.selected')\"\"\"\n",
    "    next_cell = this_cell + '.next()'\n",
    "\n",
    "    toggle_text = toggle_display # text shown on toggle link\n",
    "    target_cell = this_cell  # target cell to control with toggle\n",
    "    js_hide_current = ''  # bit of JS to permanently hide code in current cell (only when toggling next cell)\n",
    "\n",
    "    if for_next:\n",
    "        target_cell = next_cell\n",
    "        toggle_text += ' next cell'\n",
    "        js_hide_current = this_cell + '.find(\"div.input\").hide();'\n",
    "\n",
    "    js_f_name = 'code_toggle_{}'.format(str(random.randint(1,2**64)))\n",
    "\n",
    "    html = \"\"\"\n",
    "        <script>\n",
    "            function {f_name}() {{\n",
    "                {cell_selector}.find('div.input').toggle();\n",
    "            }}\n",
    "\n",
    "            {js_hide_current}\n",
    "        </script>\n",
    "\n",
    "        <a href=\"javascript:{f_name}()\">{toggle_text}</a>\n",
    "    \"\"\".format(\n",
    "        f_name=js_f_name,\n",
    "        cell_selector=target_cell,\n",
    "        js_hide_current=js_hide_current, \n",
    "        toggle_text=toggle_text\n",
    "    )\n",
    "\n",
    "    return HTML(html)\n",
    "\n",
    "def hide_imports(for_next=False):\n",
    "    this_cell = \"\"\"$('div.cell.code_cell.rendered.selected')\"\"\"\n",
    "    next_cell = this_cell + '.next()'\n",
    "\n",
    "    toggle_text = 'Imports-Toggle show/hide'  # text shown on toggle link\n",
    "    target_cell = this_cell  # target cell to control with toggle\n",
    "    js_hide_current = ''  # bit of JS to permanently hide code in current cell (only when toggling next cell)\n",
    "\n",
    "    if for_next:\n",
    "        target_cell = next_cell\n",
    "        toggle_text += ' next cell'\n",
    "        js_hide_current = this_cell + '.find(\"div.input\").hide();'\n",
    "\n",
    "    js_f_name = 'code_toggle_{}'.format(str(random.randint(1,2**64)))\n",
    "\n",
    "    html = \"\"\"\n",
    "        <script>\n",
    "            function {f_name}() {{\n",
    "                {cell_selector}.find('div.input').toggle();\n",
    "            }}\n",
    "\n",
    "            {js_hide_current}\n",
    "        </script>\n",
    "\n",
    "        <a href=\"javascript:{f_name}()\">{toggle_text}</a>\n",
    "    \"\"\".format(\n",
    "        f_name=js_f_name,\n",
    "        cell_selector=target_cell,\n",
    "        js_hide_current=js_hide_current, \n",
    "        toggle_text=toggle_text\n",
    "    )\n",
    "\n",
    "    return HTML(html)\n",
    "def hide_toggle(for_next=False):\n",
    "    this_cell = \"\"\"$('div.cell.code_cell.rendered.selected')\"\"\"\n",
    "    next_cell = this_cell + '.next()'\n",
    "\n",
    "    toggle_text = 'Toggle show/hide'  # text shown on toggle link\n",
    "    target_cell = this_cell  # target cell to control with toggle\n",
    "    js_hide_current = ''  # bit of JS to permanently hide code in current cell (only when toggling next cell)\n",
    "\n",
    "    if for_next:\n",
    "        target_cell = next_cell\n",
    "        toggle_text += ' next cell'\n",
    "        js_hide_current = this_cell + '.find(\"div.input\").hide();'\n",
    "\n",
    "    js_f_name = 'code_toggle_{}'.format(str(random.randint(1,2**64)))\n",
    "\n",
    "    html = \"\"\"\n",
    "        <script>\n",
    "            function {f_name}() {{\n",
    "                {cell_selector}.find('div.input').toggle();\n",
    "            }}\n",
    "\n",
    "            {js_hide_current}\n",
    "        </script>\n",
    "\n",
    "        <a href=\"javascript:{f_name}()\">{toggle_text}</a>\n",
    "    \"\"\".format(\n",
    "        f_name=js_f_name,\n",
    "        cell_selector=target_cell,\n",
    "        js_hide_current=js_hide_current, \n",
    "        toggle_text=toggle_text\n",
    "    )\n",
    "\n",
    "    return HTML(html)\n",
    "\n",
    "hide_function('Hiding the function')"
   ]
  },
  {
   "cell_type": "code",
   "execution_count": 56,
   "metadata": {
    "ExecuteTime": {
     "end_time": "2019-12-10T23:02:15.261685Z",
     "start_time": "2019-12-10T23:02:15.254905Z"
    }
   },
   "outputs": [
    {
     "data": {
      "text/html": [
       "\n",
       "        <script>\n",
       "            function code_toggle_13479393882551191571() {\n",
       "                $('div.cell.code_cell.rendered.selected').find('div.input').toggle();\n",
       "            }\n",
       "\n",
       "            \n",
       "        </script>\n",
       "\n",
       "        <a href=\"javascript:code_toggle_13479393882551191571()\">imports</a>\n",
       "    "
      ],
      "text/plain": [
       "<IPython.core.display.HTML object>"
      ]
     },
     "execution_count": 56,
     "metadata": {},
     "output_type": "execute_result"
    }
   ],
   "source": [
    "import pandas as pd\n",
    "import re\n",
    "import regex\n",
    "from itertools import chain\n",
    "from functools import reduce\n",
    "\n",
    "import spacy\n",
    "import en_core_web_lg\n",
    "\n",
    "#nlp=en_core_web_lg.load()\n",
    "\n",
    "hide_function('imports')"
   ]
  },
  {
   "cell_type": "code",
   "execution_count": 57,
   "metadata": {
    "ExecuteTime": {
     "end_time": "2019-12-10T23:02:22.629699Z",
     "start_time": "2019-12-10T23:02:15.264245Z"
    }
   },
   "outputs": [],
   "source": [
    "import pyarrow as pa\n",
    "import pyarrow.parquet as pq\n",
    "\n",
    "table=pq.read_table('/Users/ssaeed/Documents/Motion Identification/data3/')\n",
    "df=table.to_pandas()\n",
    "\n",
    "df=df.loc[df.astype(str).drop_duplicates().index]"
   ]
  },
  {
   "cell_type": "code",
   "execution_count": 84,
   "metadata": {
    "ExecuteTime": {
     "end_time": "2019-12-11T02:47:36.194812Z",
     "start_time": "2019-12-11T02:43:36.020072Z"
    }
   },
   "outputs": [],
   "source": [
    "import re \n",
    "from bs4 import BeautifulSoup\n",
    "from html import unescape\n",
    "\n",
    "def h(row):\n",
    "\n",
    "    soup = BeautifulSoup(str(row['docket_text']), 'lxml')\n",
    "    soup.text\n",
    "    return re.sub(r'\\W+', ' ', soup.text)\n",
    "\n",
    "\n",
    "\n",
    "df['docket_text']=df.apply(h,axis=1)"
   ]
  },
  {
   "cell_type": "code",
   "execution_count": 95,
   "metadata": {
    "ExecuteTime": {
     "end_time": "2019-12-11T20:17:33.457843Z",
     "start_time": "2019-12-11T20:13:52.925814Z"
    }
   },
   "outputs": [],
   "source": [
    "#remove dates and filing fees etc\n",
    "\n",
    "def g(row):\n",
    "    \n",
    "  \n",
    "\n",
    "    pattern=re.compile(r'(?:Jan|Feb|Mar|Apr|May|Jun|Jul|Aug|Sep|Oct|Nov|Dec|January|February|March|April|May|June|July|august|September|October|November|December|(?<!\\d)0?[0-9]|1[0-2](?!\\d))(/|.|-|\\s)([1-9]|1[0-9]|2[0-9]|3[0-1])(/|.|-|,)\\s*((?<!\\d)[1-2]?[0-9]?(0[0-9]|1[0-9]|2[0-5])(?!\\d))',re.IGNORECASE)\n",
    "\n",
    "    pattern2=re.compile(r'^sealed|^sealed document|^under seal|^in chambers|^document restricted|^document restricted sealed|local rules? (\\d+) (\\d+\\s*)(\\d+\\s*)?(\\d+)? (\\w+\\s)?(and\\s)?(\\w+\\s*)?|(20)\\d{2}$|(0)([0-9]{0,})$|data doc id (\\d+)|(\\d+) day?s|(\\d+) week?s|(?:\\d+\\s*){0,2} (\\d+)?cv(\\d+)? (?:\\d+\\s*){0,2}|\\bpatent no\\b\\s*((?:\\d+\\s+){0,3})|\\bfiling fee\\b\\s*((?:\\d+\\s+){0,3})|\\breceipt number\\b\\s*((?:\\d+\\s+){0,3})',re.IGNORECASE)\n",
    "\n",
    "\n",
    "    abq=pattern.sub(\"\",row.docket_text.lower().lstrip())\n",
    "\n",
    "    abr=pattern2.sub(\"\",abq)\n",
    "    \n",
    "    b=abr.split()\n",
    "\n",
    "    for word in b:\n",
    "    \n",
    "        if word.isdigit()==False and word.isalpha()==False:\n",
    "        \n",
    "            b.remove(word)\n",
    "    \n",
    "        else:\n",
    "        \n",
    "            pass\n",
    "    \n",
    "    return \" \".join(b).lstrip()\n",
    "\n",
    "\n",
    "df['docket_text2']=df.apply(g,1)"
   ]
  },
  {
   "cell_type": "code",
   "execution_count": 226,
   "metadata": {
    "ExecuteTime": {
     "end_time": "2019-12-28T02:09:19.308350Z",
     "start_time": "2019-12-28T02:04:47.665661Z"
    }
   },
   "outputs": [],
   "source": [
    "def h(row):\n",
    "    \n",
    "    if re.search(r'^acknowledgment|\\\n",
    "                 |^additional|\\\n",
    "                 |^AO|\\\n",
    "                 |^administrative motion|\\\n",
    "                 |^affadavit|\\\n",
    "                 |^agreed motion|\\\n",
    "                 |^agreed motion|\\\n",
    "                 |^amended motion|\\\n",
    "                 |^amended sealed patent|\\\n",
    "                 |^answer|\\\n",
    "                 |^assented to motion|\\\n",
    "                 |^application|\\\n",
    "                 |^case terminated|\\\n",
    "                 |^certificate|\\\n",
    "                 |^civil case|\\\n",
    "                 |^complaint|\\\n",
    "                 |^consent motion|\\\n",
    "                 |^corrected motion|\\\n",
    "                 |^corporate|\\\n",
    "                 |^correcting|\\\n",
    "                 |^declaration|\\\n",
    "                 |^deficient|\\\n",
    "                 |^disclosure|\\\n",
    "                 |^document|\\\n",
    "                 |^document filed in error|\\\n",
    "                 |^emergency motion|\\\n",
    "                 |^exhibit|\\\n",
    "                 |^ex parte motion|\\\n",
    "                 |^exparte|\\\n",
    "                 |^filed in error|\\\n",
    "                 |^filing error|\\\n",
    "                 |^first motion|\\\n",
    "                 |^fourth motion|\\\n",
    "                 |^joint motion|\\\n",
    "                 |^joint administrative|\\\n",
    "                 |^joint letter|\\\n",
    "                 |^lodged|\\\n",
    "                 |^letter motion|\\\n",
    "                 |^mail|\\\n",
    "                 |^motion|\\\n",
    "                 |^notice of appeal|\\\n",
    "                 |^notice of court conference|\\\n",
    "                 |^notice of deficiency|\\\n",
    "                 |^notice of denial|\\\n",
    "                 |^notice of e|\\\n",
    "                 |^notice of errata|\\\n",
    "                 |^notice of filing|\\\n",
    "                 |^notice of hearing|\\\n",
    "                 |^notice of initial|\\\n",
    "                 |^notice of lodging|\\\n",
    "                 |^notice of manual|\\\n",
    "                 |^notice of report|\\\n",
    "                 |^notice of request|\\\n",
    "                 |^notice of service|\\\n",
    "                 |^notice of telephonic|\\\n",
    "                 |^notice of withdrawal|\\\n",
    "                 |^notice of motion|\\\n",
    "                 |^notification|\\\n",
    "                 |^notification|\\\n",
    "                 |^objection|\\\n",
    "                 |^objection|\\\n",
    "                 |^opening|\\\n",
    "                 |^opposed|\\\n",
    "                 |^opposed|\\\n",
    "                 |^opposition|\\\n",
    "                 |^opposition|\\\n",
    "                 |^patent motion|\\\n",
    "                 |^plaintiff s|\\\n",
    "                 |^proof|\\\n",
    "                 |^proposed|\\\n",
    "                 |^redacted|\\\n",
    "                 |^redaction|\\\n",
    "                 |^related|\\\n",
    "                 |^remark|\\\n",
    "                 |^renewed motion|\\\n",
    "                 |^reply|\\\n",
    "                 |^report|\\\n",
    "                 |^response|\\\n",
    "                 |^response|\\\n",
    "                 |^rule|\\\n",
    "                 |^sealed notice of motion|\\\n",
    "                 |^sealed patent motion|\\\n",
    "                 |^second letter motion|\\\n",
    "                 |^second sealed|\\\n",
    "                 |^second motion|\\\n",
    "                 |^second stipulated|\\\n",
    "                 |^second patent|\\\n",
    "                 |^see|\\\n",
    "                 |^scheduling|\\\n",
    "                 |^stipulated motion|\\\n",
    "                 |^stipulation joint|\\\n",
    "                 |^summons|\\\n",
    "                 |^defendant|\\\n",
    "                 |^stipulation with proposed order|\\\n",
    "                 |^supplement|\\\n",
    "                 |^sur reply|\\\n",
    "                 |^third motion|\\\n",
    "                 |^third stipulated|\\\n",
    "                 |^unopposed sealed motion|\\\n",
    "                 |^transmission|\\\n",
    "                 |^unopposed motion|\\\n",
    "                 |^unresisted',row.docket_text2.lower().lstrip(),re.I)!=None:\n",
    "                  \n",
    "        return \"\"\n",
    "    \n",
    "    else:\n",
    "                  \n",
    "        return row.docket_text2.lstrip()\n",
    "                  \n",
    "df['docket_text2']=df.apply(h,axis=1)"
   ]
  },
  {
   "cell_type": "code",
   "execution_count": null,
   "metadata": {
    "ExecuteTime": {
     "end_time": "2019-12-06T00:28:35.579187Z",
     "start_time": "2019-12-06T00:28:35.575198Z"
    }
   },
   "outputs": [],
   "source": []
  },
  {
   "cell_type": "code",
   "execution_count": 227,
   "metadata": {
    "ExecuteTime": {
     "end_time": "2019-12-28T02:09:19.505156Z",
     "start_time": "2019-12-28T02:09:19.311219Z"
    },
    "scrolled": false
   },
   "outputs": [],
   "source": [
    "df2=df[df.docket_text2!=\"\"]\n",
    "#df2.to_csv('analysis.csv')"
   ]
  },
  {
   "cell_type": "code",
   "execution_count": 228,
   "metadata": {
    "ExecuteTime": {
     "end_time": "2019-12-28T02:15:19.361675Z",
     "start_time": "2019-12-28T02:09:19.508130Z"
    }
   },
   "outputs": [
    {
     "name": "stderr",
     "output_type": "stream",
     "text": [
      "/Library/Frameworks/Python.framework/Versions/3.6/lib/python3.6/site-packages/ipykernel_launcher.py:216: SettingWithCopyWarning: \n",
      "A value is trying to be set on a copy of a slice from a DataFrame.\n",
      "Try using .loc[row_indexer,col_indexer] = value instead\n",
      "\n",
      "See the caveats in the documentation: http://pandas.pydata.org/pandas-docs/stable/user_guide/indexing.html#returning-a-view-versus-a-copy\n"
     ]
    }
   ],
   "source": [
    "###### Advanced Order Detection \n",
    "\n",
    "def g(row):\n",
    "    if re.search(r\"^stipulation to dismiss|\\\n",
    "|(in chambers) order|\\\n",
    "|(under seal) order|\\\n",
    "|^agreed permanent|\\\n",
    "|^agreed amended|\\\n",
    "|^amended stipulation consent|\\\n",
    "|^amended consent|\\\n",
    "|^amended final|\\\n",
    "|^amended final|\\\n",
    "|^amended judgment|\\\n",
    "|^amended order|\\\n",
    "|^chief judge|\\\n",
    "|^clerk s judgment|\\\n",
    "|^clerk s judgment|\\\n",
    "|^clerk s amended|\\\n",
    "|^clerk s final|\\\n",
    "|^clerk s final|\\\n",
    "|^clerk s entry of judgment|\\\n",
    "|^federal circuit order|\\\n",
    "|^amended permanent injunction|\\\n",
    "|^claims? construction order|\\\n",
    "|^claims? construction memorandum|\\\n",
    "|^claims? construction opinion|\\\n",
    "|^conditional transfer order|\\\n",
    "|^claims? construction ruling|\\\n",
    "|^closed judgment|\\\n",
    "|^consent decree|\\\n",
    "|^consent final|\\\n",
    "|^consent injunction|\\\n",
    "|^consent judgment|\\\n",
    "|^consent judgment|\\\n",
    "|^CONSENT ORDER|\\\n",
    "|^consent preliminary|\\\n",
    "|^consolidated order|\\\n",
    "|^consolidation order|\\\n",
    "|^cost judgment|\\\n",
    "|^court order|\\\n",
    "|^decision|\\\n",
    "|^default judgment|\\\n",
    "|^default judgment|\\\n",
    "|^denying|\\\n",
    "|^dismissal order|\\\n",
    "|^dismissal order|\\\n",
    "|^dismissal with prejudice|\\\n",
    "|^dismissal|\\\n",
    "|^docket control order|\\\n",
    "|^docket entry order|\\\n",
    "|^docket text order|\\\n",
    "|^electronic sealed order|\\\n",
    "|^endorsed order|\\\n",
    "|^entered judgment|\\\n",
    "|^esi|\\\n",
    "|^final consent|\\\n",
    "|^final default|\\\n",
    "|^final judgment|\\\n",
    "|^final order|\\\n",
    "|^final stipulation|\\\n",
    "|^finaljudgment|\\\n",
    "|^findings of fact|\\\n",
    "|^granting|\\\n",
    "|^injunction|\\\n",
    "|^joint final jud|\\\n",
    "|^joint notice of vol|\\\n",
    "|^joint stipulation|\\\n",
    "|^judgement|\\\n",
    "|^restraining order|\\\n",
    "|^stipulation consent judgment|\\\n",
    "|^STIPULATION Stipulated Consent Judgment|\\\n",
    "|^Judgment by court|\\\n",
    "|^memorandum opinion|\\\n",
    "|^judgment|\\\n",
    "|^jury verdict|\\\n",
    "|^jury special verdict|\\\n",
    "|^marginal entry order|\\\n",
    "|^markman opinion|\\\n",
    "|^markman order|\\\n",
    "|^Memorandum and Order|\\\n",
    "|^memorandum decision|\\\n",
    "|^memorandum of opinion|\\\n",
    "|^memorandum ruling|\\\n",
    "|^memorandum order|\\\n",
    "|^minute order|\\\n",
    "|^minute entry before|\\\n",
    "|^MINUTES IN CHAMBERS ORDER|\\\n",
    "|^notice of case dismissal|\\\n",
    "|^notice of dismissal|\\\n",
    "|^notice of stipulation of dismissal|\\\n",
    "|^notice of voluntary dismissal|\\\n",
    "|^Opinion and Order|\\\n",
    "|^opinion &amp; order |\\\n",
    "|^opinion and final judgment |\\\n",
    "|^ORDER|\\\n",
    "|^partial consent|\\\n",
    "|^partial judgment|\\\n",
    "|^patent motion|\\\n",
    "|^partial final|\\\n",
    "|^permanent injunction|\\\n",
    "|^preliminary injunction|\\\n",
    "|^report and recommendations|\\\n",
    "|^report on the determination|\\\n",
    "|^rule|\\\n",
    "|^ruling|\\\n",
    "|^second amended final judgment|\\\n",
    "|^second amended judgment|\\\n",
    "|^so ordered|\\\n",
    "|^stipulated consent judgment|\\\n",
    "|^stipulated consent order|\\\n",
    "|^stipulated dismissal|\\\n",
    "|^stipulated final|\\\n",
    "|^stipulated injunction|\\\n",
    "|^stipulated judgment|\\\n",
    "|^stipulated order|\\\n",
    "|^stipulation order|\\\n",
    "|^stipulated permanent|\\\n",
    "|^stipulation permanent|\\\n",
    "|^stipulated preliminary|\\\n",
    "|^supplemental claim construction|\\\n",
    "|^STIPULATION OF NON INFRINGEMENT AND ORDER|\\\n",
    "|^SUPPLEMENTAL MARKMAN OPINION ORDER|\\\n",
    "|^unredacted verdict|\\\n",
    "|^voluntary dismissal|\\\n",
    "|^AMENDMENT TO FINAL JUDGMENT|\\\n",
    "|^stipulated/consent|\\\n",
    "|^STIPULATION &amp; ORDER|\\\n",
    "|^stipulation and consent|\\\n",
    "|^stipulation and final|\\\n",
    "|^stipulation and order|\\\n",
    "|^stipulation dismissing|\\\n",
    "|^stipulation for dismissal|\\\n",
    "|^stipulation for permanent|\\\n",
    "|^stipulation of dismissal|\\\n",
    "|^stipulation of partial dismissal|\\\n",
    "|^stipulation of voluntary dismissal|\\\n",
    "|^STIPULATION with proposed order|\\\n",
    "|^STIPULATION, CONSENT JUDGMENT AND PERMANENT INJUNCTION\\\n",
    "|^STIPULATION/ORDER OF DISMISSAL|\\\n",
    "|^text order|\\\n",
    "|^trial opinion|\\\n",
    "|^Text Only Order|\\\n",
    "|^withdrawn final judgment|\\\n",
    "|agreed final judgment|\\\n",
    "|agreed judgment|\\\n",
    "|agreed order|\\\n",
    "|are denied|\\\n",
    "|are granted|\\\n",
    "|^verdict|\\\n",
    "|case is hereby dismissed|\\\n",
    "|CLAIM CONSTRUCTION AND SUMMARY JUDGMENT ORDER|\\\n",
    "|CLAIM CONSTRUCTION MEMORANDUM AND OPINION AND ORDER|\\\n",
    "|CLAIM CONSTRUCTION MEMORANDUM OPINION AND ORDER|\\\n",
    "|CLAIM CONSTRUCTION OPINION AND ORDER|\\\n",
    "|CLAIM CONSTRUCTION OPINION and ORDER|\\\n",
    "|Claim construction order|\\\n",
    "|claims construction order|\\\n",
    "|closing order dimissing|\\\n",
    "|corrected final judgment|\\\n",
    "|court denies|\\\n",
    "|court dismisses|\\\n",
    "|court grants|\\\n",
    "|court grants|\\\n",
    "|denying motion|\\\n",
    "|denying|\\\n",
    "|order entered|\\\n",
    "|enter memorandum opinion and order|\\\n",
    "|entered judgment|\\\n",
    "|^transferred|\\\n",
    "|^transfer order|\\\n",
    "|^verdict|\\\n",
    "|^vacatur order|\\\n",
    "|^unredacted order|\\\n",
    "|final ruling|\\\n",
    "|granting motion|\\\n",
    "|granting|\\\n",
    "|hereby dismissed|\\\n",
    "|is denied|\\\n",
    "|is dismissed|\\\n",
    "|is granted|\\\n",
    "|is partially denied|\\\n",
    "|is partially granted|\\\n",
    "|IT IS SO ORDERED|\\\n",
    "|judgment entered|\\\n",
    "|jury reaches|\\\n",
    "|jury returns a verdict|\\\n",
    "|jury verdict|\\\n",
    "|memorandum and opinion and order|\\\n",
    "|memorandum Opinion and Order|\\\n",
    "|notice of dismissal|\\\n",
    "|OPINION &amp; ORDER|\\\n",
    "|order denying|\\\n",
    "|order denying|\\\n",
    "|order dismissing|\\\n",
    "|order entered|\\\n",
    "|order granting|\\\n",
    "|order granting|\\\n",
    "|order of dismissal|\\\n",
    "|order of dismissal|\\\n",
    "|order of dismissal|\\\n",
    "|order of voluntary dismissal|\\\n",
    "|^order on motion|\\\n",
    "|settlement order of dismissal|\\\n",
    "|so ordered|\\\n",
    "|stipulation and order|\\\n",
    "|this case is dimissed\",row['docket_text2'],re.IGNORECASE)!=None: \n",
    "    \n",
    "        return True\n",
    "\n",
    "    else:\n",
    "        \n",
    "        return False\n",
    "\n",
    "\n",
    "\n",
    "df2['order_detection']=df2.apply(g,axis=1)"
   ]
  },
  {
   "cell_type": "code",
   "execution_count": 229,
   "metadata": {
    "ExecuteTime": {
     "end_time": "2019-12-28T02:15:37.276241Z",
     "start_time": "2019-12-28T02:15:19.364981Z"
    }
   },
   "outputs": [
    {
     "name": "stderr",
     "output_type": "stream",
     "text": [
      "/Library/Frameworks/Python.framework/Versions/3.6/lib/python3.6/site-packages/ipykernel_launcher.py:14: SettingWithCopyWarning: \n",
      "A value is trying to be set on a copy of a slice from a DataFrame.\n",
      "Try using .loc[row_indexer,col_indexer] = value instead\n",
      "\n",
      "See the caveats in the documentation: http://pandas.pydata.org/pandas-docs/stable/user_guide/indexing.html#returning-a-view-versus-a-copy\n",
      "  \n"
     ]
    }
   ],
   "source": [
    "###### Simple dismissal\n",
    "\n",
    "def g(row):\n",
    "    if re.search(r'dismissal|dismissing|dismissed|defendant|^joint stipulation|^clerk',row['docket_text2'],re.IGNORECASE)!=None: \n",
    "    \n",
    "        return True\n",
    "\n",
    "    else:\n",
    "        \n",
    "        return False\n",
    "\n",
    "\n",
    "\n",
    "df2['simple_dismissal']=df2.apply(g,axis=1)"
   ]
  },
  {
   "cell_type": "code",
   "execution_count": 230,
   "metadata": {
    "ExecuteTime": {
     "end_time": "2019-12-28T02:16:11.621032Z",
     "start_time": "2019-12-28T02:15:37.278884Z"
    }
   },
   "outputs": [
    {
     "name": "stderr",
     "output_type": "stream",
     "text": [
      "/Library/Frameworks/Python.framework/Versions/3.6/lib/python3.6/site-packages/ipykernel_launcher.py:19: SettingWithCopyWarning: \n",
      "A value is trying to be set on a copy of a slice from a DataFrame.\n",
      "Try using .loc[row_indexer,col_indexer] = value instead\n",
      "\n",
      "See the caveats in the documentation: http://pandas.pydata.org/pandas-docs/stable/user_guide/indexing.html#returning-a-view-versus-a-copy\n"
     ]
    }
   ],
   "source": [
    "###### Simple dismissal\n",
    "\n",
    "def g(row):\n",
    "    if re.search(r'^stipulation of dismissal|\\\n",
    "        |^joint stipulation|\\\n",
    "        |^notice of|\\\n",
    "        |dismissal|dismissing|dismissed|\\\n",
    "        |^stipulation of partial|\\\n",
    "        |^stipulation to dismiss|^stipulation of|^stipulation to',row['docket_text2'],re.IGNORECASE)!=None: \n",
    "    \n",
    "        return True\n",
    "\n",
    "    else:\n",
    "        \n",
    "        return False\n",
    "\n",
    "\n",
    "\n",
    "df2['stipulation_dismissal']=df2.apply(g,axis=1)"
   ]
  },
  {
   "cell_type": "code",
   "execution_count": 231,
   "metadata": {
    "ExecuteTime": {
     "end_time": "2019-12-28T02:16:25.543992Z",
     "start_time": "2019-12-28T02:16:11.623844Z"
    }
   },
   "outputs": [
    {
     "name": "stderr",
     "output_type": "stream",
     "text": [
      "/Library/Frameworks/Python.framework/Versions/3.6/lib/python3.6/site-packages/ipykernel_launcher.py:14: SettingWithCopyWarning: \n",
      "A value is trying to be set on a copy of a slice from a DataFrame.\n",
      "Try using .loc[row_indexer,col_indexer] = value instead\n",
      "\n",
      "See the caveats in the documentation: http://pandas.pydata.org/pandas-docs/stable/user_guide/indexing.html#returning-a-view-versus-a-copy\n",
      "  \n"
     ]
    }
   ],
   "source": [
    "# Is it an order and a dismissal\n",
    "\n",
    "def g(row):\n",
    "    if row.order_detection==True and row.stipulation_dismissal==True: \n",
    "    \n",
    "        return True\n",
    "\n",
    "    else:\n",
    "        \n",
    "        return False\n",
    "\n",
    "\n",
    "\n",
    "df2['dismissal_order']=df2.apply(g,axis=1)"
   ]
  },
  {
   "cell_type": "code",
   "execution_count": 232,
   "metadata": {
    "ExecuteTime": {
     "end_time": "2019-12-28T02:16:25.621033Z",
     "start_time": "2019-12-28T02:16:25.546271Z"
    }
   },
   "outputs": [],
   "source": [
    "df4=df2[(df2.order_detection==True)]"
   ]
  },
  {
   "cell_type": "code",
   "execution_count": 233,
   "metadata": {
    "ExecuteTime": {
     "end_time": "2019-12-28T02:16:29.535747Z",
     "start_time": "2019-12-28T02:16:25.624548Z"
    }
   },
   "outputs": [
    {
     "name": "stderr",
     "output_type": "stream",
     "text": [
      "/Library/Frameworks/Python.framework/Versions/3.6/lib/python3.6/site-packages/ipykernel_launcher.py:16: SettingWithCopyWarning: \n",
      "A value is trying to be set on a copy of a slice from a DataFrame.\n",
      "Try using .loc[row_indexer,col_indexer] = value instead\n",
      "\n",
      "See the caveats in the documentation: http://pandas.pydata.org/pandas-docs/stable/user_guide/indexing.html#returning-a-view-versus-a-copy\n",
      "  app.launch_new_instance()\n"
     ]
    }
   ],
   "source": [
    "def g(row):\n",
    "    \n",
    "    #val2=re.search(r'(?<=and motion )(.*$)|(?<=, motion )(.*$)|(?<=moiton )(.*$)|(?<=motoin )(.*$)',row['docket_text'],re.IGNORECASE)\n",
    "        \n",
    "    #if row.docket_text.lower().startswith(('motion','sealed confidential','joint','unopposed','motion/request','application for admission')):\n",
    "        \n",
    "    if len(re.findall(r'pro hac vice',row['docket_text2'],re.IGNORECASE))>0:\n",
    "\n",
    "        return True\n",
    "\n",
    "\n",
    "    else:\n",
    "\n",
    "        return False\n",
    "        \n",
    "df4['phv']=df4.apply(g,1)"
   ]
  },
  {
   "cell_type": "code",
   "execution_count": 234,
   "metadata": {
    "ExecuteTime": {
     "end_time": "2019-12-28T02:16:55.301509Z",
     "start_time": "2019-12-28T02:16:29.539416Z"
    }
   },
   "outputs": [
    {
     "name": "stderr",
     "output_type": "stream",
     "text": [
      "/Library/Frameworks/Python.framework/Versions/3.6/lib/python3.6/site-packages/ipykernel_launcher.py:75: SettingWithCopyWarning: \n",
      "A value is trying to be set on a copy of a slice from a DataFrame.\n",
      "Try using .loc[row_indexer,col_indexer] = value instead\n",
      "\n",
      "See the caveats in the documentation: http://pandas.pydata.org/pandas-docs/stable/user_guide/indexing.html#returning-a-view-versus-a-copy\n"
     ]
    }
   ],
   "source": [
    "#Getting motion numbers from Orders\n",
    "\n",
    "def g(row):\n",
    "    \n",
    "    p=re.findall(r\"\\[(\\d+-\\d+)\\]\",row.docket_text2)\n",
    "    #s=t=re.findall(r'(.*)(?<=on)',row.docket_text,re.IGNORECASE)\n",
    "    \n",
    "    t=re.findall(r'(\\d+)|(?<=re) (\\d+)',row.docket_text2.lower(),re.IGNORECASE)\n",
    "    g=re.findall(r'mooting|denying|granting| granting in part and denying in part|admitting',row.docket_text2.lower(),re.IGNORECASE)\n",
    "    k=['deny' if i in ['denying','denied'] else 'grant' if i in ['granting','admitting'] else 'other' if i in ['order on','mooting']  else 'partial' for i in g]\n",
    "    w=re.findall(r'(granting|denying)(.*?)(motion|stipulation)',row.docket_text2.lower(),re.IGNORECASE)\n",
    " \n",
    "    \n",
    "    \n",
    "    if len(p)>0:\n",
    "        \n",
    "        q=[]\n",
    "\n",
    "        for i in range(len(p)):\n",
    "    \n",
    "            q.append(int(p[i].split('-')[0]))\n",
    "        \n",
    "        return [str(n)+' '+str(m)  for m,n in zip(q,k)]\n",
    "        #return q\n",
    "        \n",
    "    \n",
    "    if len(t)>0:\n",
    "        \n",
    "        q=[]\n",
    "        \n",
    "        q.extend([int(i) for i in list(chain.from_iterable(t)) if i and int(i) in range(4,399)])\n",
    "        \n",
    "        return [str(n)+' '+str(m)  for m,n in zip(q,k)]\n",
    "        \n",
    "        \n",
    "        \n",
    "        \n",
    "    \n",
    "#         if len(w)>0:\n",
    "        \n",
    "#             a=[]\n",
    "        \n",
    "        \n",
    "#             for x in w:\n",
    "\n",
    "#                 y=re.findall(r'\\b\\d+\\b',str(x[1]))\n",
    "\n",
    "#                 if \"in part\" in x[1]:\n",
    "\n",
    "\n",
    "#                     a.append(['partial ' + z for z in y]  )\n",
    "\n",
    "#                 if \"denying\" in x[0]:\n",
    "\n",
    "#                    a.append(['deny ' + z for z in y]  )\n",
    "\n",
    "#                 if 'granting' in x[0] and 'in part' not in x[1]:\n",
    "\n",
    "#                    a.append(['grant ' + z for z in y]  )\n",
    "\n",
    "#             j.extend([item for sublist in a for item in sublist])\n",
    "        \n",
    "#         return list(set(j))\n",
    "        \n",
    "        \n",
    "        \n",
    "        \n",
    "        \n",
    "        #return q\n",
    "        \n",
    "    else:\n",
    "        \n",
    "        return None\n",
    "    \n",
    "df4['motions']=df4.apply(g,1)"
   ]
  },
  {
   "cell_type": "code",
   "execution_count": 235,
   "metadata": {
    "ExecuteTime": {
     "end_time": "2019-12-28T02:19:21.893284Z",
     "start_time": "2019-12-28T02:16:55.304053Z"
    }
   },
   "outputs": [
    {
     "name": "stderr",
     "output_type": "stream",
     "text": [
      "/Library/Frameworks/Python.framework/Versions/3.6/lib/python3.6/site-packages/ipykernel_launcher.py:78: SettingWithCopyWarning: \n",
      "A value is trying to be set on a copy of a slice from a DataFrame.\n",
      "Try using .loc[row_indexer,col_indexer] = value instead\n",
      "\n",
      "See the caveats in the documentation: http://pandas.pydata.org/pandas-docs/stable/user_guide/indexing.html#returning-a-view-versus-a-copy\n"
     ]
    }
   ],
   "source": [
    "## Getting motion numbers from Orders\n",
    "\n",
    "def g(row):\n",
    "    \n",
    "    p=re.findall(r\"\\[(\\d+-\\d+)\\]\",row.docket_text2)\n",
    "    t=re.findall(r'application (\\d+)|granting in part (\\d+)|(\\d+) motion|re (\\d+)|accepted (\\d+)|mooting (\\d+)|granting (\\d+)|denying (\\d+)|(\\d+) joint|(\\d+) voluntary|(\\d+) unopposed|(\\d+) first |(\\d+) second|(\\d+) stipulated |(\\d+) sealed|(\\d+) letter |(\\d+) non|(\\d+) notice |(\\d+) defendants| (\\d+) defendant| (\\d+) plaintiffs |(\\d+) application|(\\d+) the plaintiff|(\\d+) the plaintiff s|(\\d+) by| doc (\\d+)| no (\\d+)| (\\d+) for| (\\d+) stipulation| (\\d+) administrative|(\\d+) unopposed |(\\d+) motion| re (\\d+)|counterclaim (\\d+)|(\\d+) report|report (\\d+)|dkt (\\d+)|dismiss (\\d+)|docket (\\d+)|complaint (\\d+)|(\\d+) opposed|(\\d+) denied|(\\d+) granted|(\\d+) it is ordered|attorney (\\d+)|(\\d+) attorney|doc (\\d+)|document (\\d+)|order on (\\d+)|(\\d+) consent|(\\d+) ex parte|(\\d+) emergency|re (\\d+)|(\\d+) letter|attorney (\\d+)|seal (\\d+)|order (\\d+)',row.docket_text2,re.IGNORECASE)\n",
    "    g=re.findall(r'denying|granting| granting in part and denying in part| granting in part|admitting',row.docket_text2.lower(),re.IGNORECASE)\n",
    "    k=['deny' if i in ['denying','denied'] else 'grant' if i in ['granting','admitting'] else 'partial' if i in [' granting in part and denying in part',' granting in part'] else 'other' for i in g]\n",
    "    w=re.findall(r'(granting|denying)(.*?)(application|motion|stipulation|notice|non resident)',row.docket_text2.lower(),re.IGNORECASE)\n",
    "   \n",
    "\n",
    "        \n",
    "\n",
    "    \n",
    "    if len(t)>0 and len(g)>0:\n",
    "\n",
    "        q=[]\n",
    "\n",
    "        q.extend([int(i) for i in list(chain.from_iterable(t)) if i and int(i)<399 and int(i)>3])\n",
    "\n",
    "\n",
    "        cd=[str(n)+' '+str(m)  for m,n in zip(q,k)]\n",
    "        \n",
    "        if len(w)>0:\n",
    "        \n",
    "            a=[]\n",
    "        \n",
    "        \n",
    "            for x in w:\n",
    "\n",
    "                y=re.findall(r'\\b\\d+\\b',str(x[1]))\n",
    "\n",
    "                if \"in part\" in x[1]:\n",
    "\n",
    "\n",
    "                    a.append(['partial ' + z for z in y]  )\n",
    "\n",
    "                if \"denying\" in x[0]:\n",
    "\n",
    "                   a.append(['deny ' + z for z in y]  )\n",
    "\n",
    "                if 'granting' in x[0] and 'in part' not in x[1]:\n",
    "\n",
    "                   a.append(['grant ' + z for z in y]  )\n",
    "                \n",
    "                if 'mooting' in x[0]:\n",
    "\n",
    "                   a.append(['other ' + z for z in y]  )\n",
    "\n",
    "\n",
    "\n",
    "            cd.extend([item for sublist in a for item in sublist])\n",
    "        \n",
    "        \n",
    "\n",
    "        return list(set(cd))\n",
    "    \n",
    "    \n",
    "\n",
    "\n",
    "    \n",
    "\n",
    "\n",
    "    elif len(t)>0 and len(g)==0:\n",
    "\n",
    "        q=[]\n",
    "\n",
    "        q.extend([int(i) for i in list(chain.from_iterable(t)) if i and int(i)<399])\n",
    "\n",
    "\n",
    "        return [\"other \"+str(x) for x in q if x]\n",
    "    \n",
    "            \n",
    "#     else:\n",
    "        \n",
    "#         return ['uncertain output'] \n",
    "    \n",
    "df4['motions_third']=df4.apply(g,1)"
   ]
  },
  {
   "cell_type": "code",
   "execution_count": 236,
   "metadata": {
    "ExecuteTime": {
     "end_time": "2019-12-28T02:19:41.957662Z",
     "start_time": "2019-12-28T02:19:21.896207Z"
    }
   },
   "outputs": [
    {
     "name": "stderr",
     "output_type": "stream",
     "text": [
      "/Library/Frameworks/Python.framework/Versions/3.6/lib/python3.6/site-packages/ipykernel_launcher.py:21: SettingWithCopyWarning: \n",
      "A value is trying to be set on a copy of a slice from a DataFrame.\n",
      "Try using .loc[row_indexer,col_indexer] = value instead\n",
      "\n",
      "See the caveats in the documentation: http://pandas.pydata.org/pandas-docs/stable/user_guide/indexing.html#returning-a-view-versus-a-copy\n"
     ]
    }
   ],
   "source": [
    "def g(row):\n",
    "    \n",
    "    \n",
    "    \n",
    "    if row.motions==False or row.motions==[]:\n",
    "        \n",
    "        return row.motions_third\n",
    "    \n",
    "    if row.motions_third=='other' or row.motions_third==['uncertain output'] and row.motions:\n",
    "        \n",
    "        return row.motions\n",
    "    \n",
    "    if row.motions and row.motions_third:\n",
    "        \n",
    "        return row.motions_third\n",
    "    \n",
    "    else:\n",
    "        \n",
    "        return row.motions\n",
    "    \n",
    "df4['joint_motions']=df4.apply(g,1)"
   ]
  },
  {
   "cell_type": "code",
   "execution_count": 237,
   "metadata": {
    "ExecuteTime": {
     "end_time": "2019-12-28T02:20:54.690882Z",
     "start_time": "2019-12-28T02:19:41.960065Z"
    }
   },
   "outputs": [
    {
     "name": "stderr",
     "output_type": "stream",
     "text": [
      "/Library/Frameworks/Python.framework/Versions/3.6/lib/python3.6/site-packages/ipykernel_launcher.py:33: SettingWithCopyWarning: \n",
      "A value is trying to be set on a copy of a slice from a DataFrame.\n",
      "Try using .loc[row_indexer,col_indexer] = value instead\n",
      "\n",
      "See the caveats in the documentation: http://pandas.pydata.org/pandas-docs/stable/user_guide/indexing.html#returning-a-view-versus-a-copy\n"
     ]
    }
   ],
   "source": [
    "#Using \"Is denied, are denied\"\n",
    "\n",
    "\n",
    "def g(row):\n",
    "\n",
    "    k=re.findall('\\d+',str(re.findall(r'(\\S+) (\\S+) (\\S+) (\\S+) (\\S+) (\\S+) and (\\S+) are granted',row.docket_text.lower())))\n",
    "    l=re.findall('\\d+',str(re.findall(r'(\\S+) (\\S+) (\\S+) (\\S+) and (\\S+) are denied',row.docket_text.lower())))\n",
    "    n=re.findall(r'(\\d+)(?= is denied)',row.docket_text.lower())\n",
    "    m=re.findall(r'(\\d+)(?= is granted) (?!.*in part)',row.docket_text.lower())\n",
    "    o=re.findall(r'(\\d+)(?= is granted in part)',row.docket_text.lower())\n",
    "\n",
    "  \n",
    "\n",
    "\n",
    "    q=[]\n",
    "    q.extend([\"grant \"+str(i) for i in k if i and int(i)<399])\n",
    "    q.extend([\"deny \"+str(i) for i in l if i and int(i)<399])\n",
    "    q.extend([\"grant \"+str(i) for i in m])\n",
    "    q.extend([\"deny \"+str(i) for i in n])\n",
    "    q.extend([\"partial \"+str(i) for i in o])\n",
    "    \n",
    "    if row.joint_motions==None:\n",
    "        \n",
    "        pass\n",
    "    \n",
    "    else:\n",
    "        \n",
    "        q.extend(row.joint_motions)\n",
    "        \n",
    "        \n",
    "    return list(set(q))\n",
    "\n",
    "df4['fourth_motion_list']=df4.apply(g,1)"
   ]
  },
  {
   "cell_type": "code",
   "execution_count": 238,
   "metadata": {
    "ExecuteTime": {
     "end_time": "2019-12-28T02:21:00.656803Z",
     "start_time": "2019-12-28T02:20:54.693743Z"
    }
   },
   "outputs": [
    {
     "name": "stderr",
     "output_type": "stream",
     "text": [
      "/Library/Frameworks/Python.framework/Versions/3.6/lib/python3.6/site-packages/ipykernel_launcher.py:8: SettingWithCopyWarning: \n",
      "A value is trying to be set on a copy of a slice from a DataFrame.\n",
      "Try using .loc[row_indexer,col_indexer] = value instead\n",
      "\n",
      "See the caveats in the documentation: http://pandas.pydata.org/pandas-docs/stable/user_guide/indexing.html#returning-a-view-versus-a-copy\n",
      "  \n"
     ]
    }
   ],
   "source": [
    "def g(row):\n",
    "\n",
    "    a=re.findall(r'(\\d+)',str(row.fourth_motion_list))\n",
    "\n",
    "                 \n",
    "    return [int(x) for x in a]\n",
    "    \n",
    "df4['motions_list_only']=df4.apply(g,1)"
   ]
  },
  {
   "cell_type": "code",
   "execution_count": 239,
   "metadata": {
    "ExecuteTime": {
     "end_time": "2019-12-28T02:21:11.428184Z",
     "start_time": "2019-12-28T02:21:00.659920Z"
    }
   },
   "outputs": [
    {
     "name": "stderr",
     "output_type": "stream",
     "text": [
      "/Library/Frameworks/Python.framework/Versions/3.6/lib/python3.6/site-packages/ipykernel_launcher.py:51: SettingWithCopyWarning: \n",
      "A value is trying to be set on a copy of a slice from a DataFrame.\n",
      "Try using .loc[row_indexer,col_indexer] = value instead\n",
      "\n",
      "See the caveats in the documentation: http://pandas.pydata.org/pandas-docs/stable/user_guide/indexing.html#returning-a-view-versus-a-copy\n"
     ]
    }
   ],
   "source": [
    "def g(row):\n",
    "    \n",
    "    if len(row.motions_list_only)==0:\n",
    "        \n",
    "        return ['uncertain output']\n",
    "    \n",
    "    if row.phv==True:\n",
    "        \n",
    "        a=[]\n",
    "        \n",
    "\n",
    "        b=re.findall(r'grant|deny|terminating',row.docket_text2.lower())\n",
    "\n",
    "        c=re.findall(r'(\\d+) motion',row.docket_text2.lower())\n",
    "        \n",
    "        for x in c:\n",
    "            \n",
    "            if int(x) not in row.motions_list_only:\n",
    "                \n",
    "                a.append([b[0] +' ' + x for i in range(len(b))])\n",
    "        \n",
    "\n",
    "\n",
    "\n",
    "#         for x in re.findall(r'(\\d+) motion',row.docket_text.lower()):\n",
    "    \n",
    "#             a.append([b[0] +' ' + x for i in range(len(b))])\n",
    "        \n",
    "        \n",
    "    \n",
    "    \n",
    "    \n",
    "    \n",
    "\n",
    "    \n",
    "    \n",
    "        \n",
    "        \n",
    "        \n",
    "        d=[item for sublist in a for item in sublist]\n",
    "        d.extend(row.fourth_motion_list)\n",
    "        \n",
    "        return list(set(d))\n",
    "    \n",
    "    else:\n",
    "        \n",
    "        return row.fourth_motion_list\n",
    "    \n",
    "    \n",
    "        \n",
    "df4['final_motion_list']=df4.apply(g,1)"
   ]
  },
  {
   "cell_type": "code",
   "execution_count": 254,
   "metadata": {
    "ExecuteTime": {
     "end_time": "2019-12-28T06:52:40.718183Z",
     "start_time": "2019-12-28T06:52:24.289381Z"
    }
   },
   "outputs": [
    {
     "name": "stderr",
     "output_type": "stream",
     "text": [
      "/Library/Frameworks/Python.framework/Versions/3.6/lib/python3.6/site-packages/ipykernel_launcher.py:12: SettingWithCopyWarning: \n",
      "A value is trying to be set on a copy of a slice from a DataFrame.\n",
      "Try using .loc[row_indexer,col_indexer] = value instead\n",
      "\n",
      "See the caveats in the documentation: http://pandas.pydata.org/pandas-docs/stable/user_guide/indexing.html#returning-a-view-versus-a-copy\n",
      "  if sys.path[0] == '':\n"
     ]
    }
   ],
   "source": [
    "def g(row):\n",
    "\n",
    "    g=re.findall(r'notice of voluntary| stipulation of dismi| order dismissing cas| order of dismissal| notice of dismissal| stipulation and order| stipulation to dismiss| joint stipulation to| denied| granted| grants| denies| denying| granting| granting in part and denying in part| granting in part',row.docket_text2.lower(),re.IGNORECASE)\n",
    "    k=[' deny' if i in [' denying',' denied',' denies'] else ' grant' if i in ['notice of voluntary', ' stipulation of dismi',' order dismissing cas',' order of dismissal',' notice of dismissal',' stipulation and order',' stipulation to dismiss',' joint stipulation to',' granting',' granted',' grants'] else 'partial' if i in [' granting in part and denying in part',' granting in part'] else 'uncertain output' for i in g]\n",
    "    if k:\n",
    "        return set(k)\n",
    "    \n",
    "    else:\n",
    "        \n",
    "        return 'uncertain output'\n",
    "\n",
    "df4['model_outcome']=df4.apply(g,1)"
   ]
  },
  {
   "cell_type": "code",
   "execution_count": 255,
   "metadata": {
    "ExecuteTime": {
     "end_time": "2019-12-28T06:52:44.968009Z",
     "start_time": "2019-12-28T06:52:40.721396Z"
    }
   },
   "outputs": [],
   "source": [
    "df5=df4[df4.order_detection==True]\n",
    "df5=df5.drop(['simple_dismissal','fourth_motion_list','joint_motions','motions_third','motions'], axis=1)\n",
    "\n",
    "\n",
    "\n",
    "df5.to_csv('revised_order_to_motion_2019_12_26.csv')"
   ]
  },
  {
   "cell_type": "code",
   "execution_count": 242,
   "metadata": {
    "ExecuteTime": {
     "end_time": "2019-12-28T02:21:23.771249Z",
     "start_time": "2019-12-28T02:21:23.758488Z"
    }
   },
   "outputs": [
    {
     "ename": "NameError",
     "evalue": "name 'dsflfks' is not defined",
     "output_type": "error",
     "traceback": [
      "\u001b[0;31m---------------------------------------------------------------------------\u001b[0m",
      "\u001b[0;31mNameError\u001b[0m                                 Traceback (most recent call last)",
      "\u001b[0;32m<ipython-input-242-17a3fcc2cfe0>\u001b[0m in \u001b[0;36m<module>\u001b[0;34m\u001b[0m\n\u001b[0;32m----> 1\u001b[0;31m \u001b[0mdsflfks\u001b[0m\u001b[0;34m\u001b[0m\u001b[0m\n\u001b[0m",
      "\u001b[0;31mNameError\u001b[0m: name 'dsflfks' is not defined"
     ]
    }
   ],
   "source": [
    "dsflfks"
   ]
  },
  {
   "cell_type": "code",
   "execution_count": null,
   "metadata": {
    "ExecuteTime": {
     "end_time": "2019-12-28T02:21:23.775835Z",
     "start_time": "2019-12-28T02:04:47.702Z"
    }
   },
   "outputs": [],
   "source": [
    "df5=df\n",
    "s = df5.apply(lambda x: pd.Series(x['final_motion_list']),axis=1).stack().reset_index(level=1, drop=True)\n",
    "s.name='related_motion'\n",
    "#df5=df5.drop(['simple_dismissal','fourth_motion_list','motions_list_only','final_motion_list','joint_motions','motions_third','motions'], axis=1).join(s)\n",
    "\n",
    "def g(row):\n",
    "    \n",
    "    if row.related_motion!='uncertain output':\n",
    "        \n",
    "        return str(row.related_motion).partition(' ')[0]\n",
    "    \n",
    "    else:\n",
    "        \n",
    "        return 'uncertain'\n",
    "    \n",
    "df5['direction']=df5.apply(g,1)\n",
    "\n",
    "def g(row):\n",
    "    \n",
    "    if row.related_motion!='uncertain output':\n",
    "        \n",
    "        return str(row.related_motion).partition(' ')[2]\n",
    "    \n",
    "    else:\n",
    "        \n",
    "        return None\n",
    "    \n",
    "df5['related_entry']=df5.apply(g,1)\n",
    "\n",
    "df5.drop('related_motion',1,inplace=True)\n",
    "\n",
    "df5.to_csv('UI_FORMAT_matching_motions_20191204.csv')"
   ]
  },
  {
   "cell_type": "code",
   "execution_count": null,
   "metadata": {
    "ExecuteTime": {
     "end_time": "2019-12-28T02:21:23.781305Z",
     "start_time": "2019-12-28T02:04:47.710Z"
    }
   },
   "outputs": [],
   "source": [
    "ab=pd.read_csv('nonmatches.csv')\n",
    "ab['entry_number']= ab.entry_number.astype(float)\n",
    "ba=df[['case_key','entry_number','docket_text']]\n",
    "df9=pd.merge(ab,ba,how='left',on=['case_key','entry_number'])"
   ]
  },
  {
   "cell_type": "code",
   "execution_count": null,
   "metadata": {
    "ExecuteTime": {
     "end_time": "2019-12-28T02:21:23.782625Z",
     "start_time": "2019-12-28T02:04:47.712Z"
    }
   },
   "outputs": [],
   "source": [
    "df9=pd.merge(ab,ba,how='left',on=['case_key','entry_number'])"
   ]
  },
  {
   "cell_type": "code",
   "execution_count": null,
   "metadata": {
    "ExecuteTime": {
     "end_time": "2019-12-28T02:21:23.783992Z",
     "start_time": "2019-12-28T02:04:47.714Z"
    }
   },
   "outputs": [],
   "source": [
    "###### Simple Order Detection \n",
    "\n",
    "def g(row):\n",
    "    if re.search(r'^Claim construction order|^Memorandum Opinion and Order|^Judgment by court|Memorandum and Order|^Opinion and Order|^Text Only Order|IT IS SO ORDERED|^MINUTES IN CHAMBERS ORDER|^ORDER|^CONSENT ORDER',row['docket_text'],re.IGNORECASE)!=None: \n",
    "    \n",
    "        return True\n",
    "\n",
    "    else:\n",
    "        return False\n",
    "\n",
    "\n",
    "\n",
    "df9['order_detection']=df9.apply(g,axis=1)"
   ]
  }
 ],
 "metadata": {
  "kernelspec": {
   "display_name": "Python 3",
   "language": "python",
   "name": "python3"
  },
  "language_info": {
   "codemirror_mode": {
    "name": "ipython",
    "version": 3
   },
   "file_extension": ".py",
   "mimetype": "text/x-python",
   "name": "python",
   "nbconvert_exporter": "python",
   "pygments_lexer": "ipython3",
   "version": "3.6.5"
  }
 },
 "nbformat": 4,
 "nbformat_minor": 2
}
